{
  "nbformat": 4,
  "nbformat_minor": 0,
  "metadata": {
    "colab": {
      "provenance": [],
      "authorship_tag": "ABX9TyOOjRJTPf6x6t5mnreWX9FD",
      "include_colab_link": true
    },
    "kernelspec": {
      "name": "python3",
      "display_name": "Python 3"
    },
    "language_info": {
      "name": "python"
    }
  },
  "cells": [
    {
      "cell_type": "markdown",
      "metadata": {
        "id": "view-in-github",
        "colab_type": "text"
      },
      "source": [
        "<a href=\"https://colab.research.google.com/github/jas-tang/flask_4_databases_mysql_vm/blob/main/mysqlpython4b.ipynb\" target=\"_parent\"><img src=\"https://colab.research.google.com/assets/colab-badge.svg\" alt=\"Open In Colab\"/></a>"
      ]
    },
    {
      "cell_type": "markdown",
      "source": [
        "#Using SQLAlchemy to connect with MySQL"
      ],
      "metadata": {
        "id": "1fgpzeNXQnmI"
      }
    },
    {
      "cell_type": "code",
      "execution_count": null,
      "metadata": {
        "id": "tRyH3yc7VIz8"
      },
      "outputs": [],
      "source": [
        "!sudo apt-get install python3-dev default-libmysqlclient-dev\n",
        "!pip install pymysql"
      ]
    },
    {
      "cell_type": "markdown",
      "source": [
        "It was critical to install sqlalchemy version 1.4"
      ],
      "metadata": {
        "id": "xt-KZFSJQ11k"
      }
    },
    {
      "cell_type": "code",
      "source": [
        "pip install sqlalchemy==1.4.46"
      ],
      "metadata": {
        "colab": {
          "base_uri": "https://localhost:8080/"
        },
        "id": "S5jD259_f8An",
        "outputId": "7a944b2a-e817-40ef-efae-b9c80d09f241"
      },
      "execution_count": 2,
      "outputs": [
        {
          "output_type": "stream",
          "name": "stdout",
          "text": [
            "Requirement already satisfied: sqlalchemy==1.4.46 in /usr/local/lib/python3.10/dist-packages (1.4.46)\n",
            "Requirement already satisfied: greenlet!=0.4.17 in /usr/local/lib/python3.10/dist-packages (from sqlalchemy==1.4.46) (3.0.0)\n"
          ]
        }
      ]
    },
    {
      "cell_type": "code",
      "source": [
        "import sqlalchemy\n",
        "from sqlalchemy import create_engine, inspect"
      ],
      "metadata": {
        "id": "pKf1iEfHVgLy"
      },
      "execution_count": 3,
      "outputs": []
    },
    {
      "cell_type": "markdown",
      "source": [
        "engine.table_names does not work unless you have sqlalchemy 1.4 as sqlalchemy 2.0 removed that feature"
      ],
      "metadata": {
        "id": "snoOAh3FQ9me"
      }
    },
    {
      "cell_type": "code",
      "source": [
        "MYSQL_HOSTNAME = '172.174.249.223'\n",
        "MYSQL_USER = 'jason'\n",
        "MYSQL_PASSWORD = 'jason2023'\n",
        "MYSQL_DATABASE = 'testdb'\n",
        "\n",
        "connection_string = f'mysql+pymysql://{MYSQL_USER}:{MYSQL_PASSWORD}@{MYSQL_HOSTNAME}/{MYSQL_DATABASE}'\n",
        "engine = create_engine(connection_string)\n",
        "print (engine.table_names())\n",
        "\n"
      ],
      "metadata": {
        "colab": {
          "base_uri": "https://localhost:8080/"
        },
        "id": "Hu4YrEMWVpsV",
        "outputId": "3f998930-b022-41ce-acef-59877b3a8b4a"
      },
      "execution_count": 4,
      "outputs": [
        {
          "output_type": "stream",
          "name": "stderr",
          "text": [
            "<ipython-input-4-cdd38d7bafd2>:8: SADeprecationWarning: The Engine.table_names() method is deprecated and will be removed in a future release.  Please refer to Inspector.get_table_names(). (deprecated since: 1.4)\n",
            "  print (engine.table_names())\n"
          ]
        },
        {
          "output_type": "stream",
          "name": "stdout",
          "text": [
            "['demographics', 'patients']\n"
          ]
        }
      ]
    }
  ]
}